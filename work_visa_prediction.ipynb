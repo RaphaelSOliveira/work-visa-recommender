{
 "cells": [
  {
   "attachments": {},
   "cell_type": "markdown",
   "metadata": {},
   "source": [
    "### **1. Libraries** <a class=\"anchor\" id=\"1\"></a>"
   ]
  },
  {
   "cell_type": "code",
   "execution_count": 1,
   "metadata": {},
   "outputs": [
    {
     "name": "stdout",
     "output_type": "stream",
     "text": [
      "(CVXPY) Jun 06 02:14:49 PM: Encountered unexpected exception importing solver GLOP:\n",
      "RuntimeError('Unrecognized new version of ortools (9.6.2534). Expected < 9.5.0.Please open a feature request on cvxpy to enable support for this version.')\n",
      "(CVXPY) Jun 06 02:14:49 PM: Encountered unexpected exception importing solver PDLP:\n",
      "RuntimeError('Unrecognized new version of ortools (9.6.2534). Expected < 9.5.0.Please open a feature request on cvxpy to enable support for this version.')\n"
     ]
    }
   ],
   "source": [
    "# date manipulation\n",
    "from datetime import datetime\n",
    "\n",
    "# data manipulation\n",
    "import pandas as pd\n",
    "import numpy as np\n",
    "\n",
    "# Plotting\n",
    "import seaborn as sns\n",
    "sns.set(style='whitegrid')\n",
    "import matplotlib.pyplot as plt\n",
    "\n",
    "# supervised discretization\n",
    "from optbinning import OptimalBinning\n",
    "\n",
    "# preprocessing\n",
    "from sklearn.preprocessing import OneHotEncoder, OrdinalEncoder\n",
    "\n",
    "# models\n",
    "from xgboost import XGBClassifier\n",
    "\n",
    "# model selection\n",
    "from sklearn.model_selection import RandomizedSearchCV, StratifiedKFold\n",
    "from sklearn.model_selection import cross_val_score, train_test_split\n",
    "\n",
    "# model metrics\n",
    "from sklearn.metrics import roc_curve, f1_score\n",
    "\n",
    "# warnings\n",
    "import warnings\n",
    "warnings.filterwarnings('ignore')"
   ]
  },
  {
   "attachments": {},
   "cell_type": "markdown",
   "metadata": {},
   "source": [
    "### **2. Functions** "
   ]
  },
  {
   "attachments": {},
   "cell_type": "markdown",
   "metadata": {},
   "source": [
    "Later on, the reason and the intuition behind the function standardize_salary_per_hour will be explained for better understanding. After the explanation, I recommend going back to this code snippet to look at the function in more depth."
   ]
  },
  {
   "cell_type": "code",
   "execution_count": 2,
   "metadata": {},
   "outputs": [],
   "source": [
    "def standardize_salary_per_hour(dataset_row):\n",
    "    denominator_weight = 1\n",
    "    \n",
    "    if dataset_row['unidade_de_salario'] == 'Hora':\n",
    "        return dataset_row['salario_prevalecente']\n",
    "\n",
    "    # denominator_weight will decrease the value of the denominator if the job position is part-time\n",
    "    if dataset_row['posicao_em_tempo_integral'] == 'N':\n",
    "        denominator_weight = 0.5\n",
    "\n",
    "    # horas úteis de trabalho em cada unidade de tempo\n",
    "    if dataset_row['unidade_de_salario'] == 'Semana':\n",
    "        denominator = 40\n",
    "    elif dataset_row['unidade_de_salario'] == 'Mês':\n",
    "        denominator = 172\n",
    "    elif dataset_row['unidade_de_salario'] == 'Ano':\n",
    "        denominator = 2064\n",
    "    \n",
    "    return round(dataset_row['salario_prevalecente'] / (denominator * denominator_weight), 2)"
   ]
  },
  {
   "attachments": {},
   "cell_type": "markdown",
   "metadata": {},
   "source": [
    "<a id=\"3\"></a>\n",
    "### **3. Importando dados**"
   ]
  },
  {
   "cell_type": "code",
   "execution_count": 3,
   "metadata": {},
   "outputs": [],
   "source": [
    "train = pd.read_csv('train.csv')\n",
    "X_test = pd.read_csv('test.csv')"
   ]
  },
  {
   "cell_type": "code",
   "execution_count": 4,
   "metadata": {},
   "outputs": [
    {
     "data": {
      "text/html": [
       "<div>\n",
       "<style scoped>\n",
       "    .dataframe tbody tr th:only-of-type {\n",
       "        vertical-align: middle;\n",
       "    }\n",
       "\n",
       "    .dataframe tbody tr th {\n",
       "        vertical-align: top;\n",
       "    }\n",
       "\n",
       "    .dataframe thead th {\n",
       "        text-align: right;\n",
       "    }\n",
       "</style>\n",
       "<table border=\"1\" class=\"dataframe\">\n",
       "  <thead>\n",
       "    <tr style=\"text-align: right;\">\n",
       "      <th></th>\n",
       "      <th>id_do_caso</th>\n",
       "      <th>continente</th>\n",
       "      <th>educacao_do_empregado</th>\n",
       "      <th>tem_experiencia_de_trabalho</th>\n",
       "      <th>requer_treinamento_de_trabalho</th>\n",
       "      <th>num_de_empregados</th>\n",
       "      <th>ano_de_estabelecimento</th>\n",
       "      <th>regiao_de_emprego</th>\n",
       "      <th>salario_prevalecente</th>\n",
       "      <th>unidade_de_salario</th>\n",
       "      <th>posicao_em_tempo_integral</th>\n",
       "      <th>status_do_caso</th>\n",
       "    </tr>\n",
       "  </thead>\n",
       "  <tbody>\n",
       "    <tr>\n",
       "      <th>0</th>\n",
       "      <td>EZYV10567</td>\n",
       "      <td>Europa</td>\n",
       "      <td>Ensino Médio</td>\n",
       "      <td>N</td>\n",
       "      <td>S</td>\n",
       "      <td>2087</td>\n",
       "      <td>1855</td>\n",
       "      <td>Sul</td>\n",
       "      <td>69711.24</td>\n",
       "      <td>Ano</td>\n",
       "      <td>S</td>\n",
       "      <td>Negado</td>\n",
       "    </tr>\n",
       "    <tr>\n",
       "      <th>1</th>\n",
       "      <td>EZYV5505</td>\n",
       "      <td>Ásia</td>\n",
       "      <td>Mestrado</td>\n",
       "      <td>S</td>\n",
       "      <td>N</td>\n",
       "      <td>5991</td>\n",
       "      <td>2003</td>\n",
       "      <td>Meio-Oeste</td>\n",
       "      <td>52931.38</td>\n",
       "      <td>Ano</td>\n",
       "      <td>S</td>\n",
       "      <td>Aprovado</td>\n",
       "    </tr>\n",
       "    <tr>\n",
       "      <th>2</th>\n",
       "      <td>EZYV5207</td>\n",
       "      <td>Ásia</td>\n",
       "      <td>Ensino Médio</td>\n",
       "      <td>N</td>\n",
       "      <td>N</td>\n",
       "      <td>1426</td>\n",
       "      <td>2000</td>\n",
       "      <td>Ilha</td>\n",
       "      <td>110830.21</td>\n",
       "      <td>Ano</td>\n",
       "      <td>S</td>\n",
       "      <td>Negado</td>\n",
       "    </tr>\n",
       "    <tr>\n",
       "      <th>3</th>\n",
       "      <td>EZYV7545</td>\n",
       "      <td>Ásia</td>\n",
       "      <td>Ensino Médio</td>\n",
       "      <td>N</td>\n",
       "      <td>N</td>\n",
       "      <td>3846</td>\n",
       "      <td>1992</td>\n",
       "      <td>Meio-Oeste</td>\n",
       "      <td>91884.68</td>\n",
       "      <td>Semana</td>\n",
       "      <td>S</td>\n",
       "      <td>Negado</td>\n",
       "    </tr>\n",
       "    <tr>\n",
       "      <th>4</th>\n",
       "      <td>EZYV16071</td>\n",
       "      <td>Ásia</td>\n",
       "      <td>Ensino Superior</td>\n",
       "      <td>S</td>\n",
       "      <td>N</td>\n",
       "      <td>3957</td>\n",
       "      <td>1949</td>\n",
       "      <td>Nordeste</td>\n",
       "      <td>138155.24</td>\n",
       "      <td>Ano</td>\n",
       "      <td>S</td>\n",
       "      <td>Aprovado</td>\n",
       "    </tr>\n",
       "  </tbody>\n",
       "</table>\n",
       "</div>"
      ],
      "text/plain": [
       "  id_do_caso continente educacao_do_empregado tem_experiencia_de_trabalho  \\\n",
       "0  EZYV10567     Europa          Ensino Médio                           N   \n",
       "1   EZYV5505       Ásia              Mestrado                           S   \n",
       "2   EZYV5207       Ásia          Ensino Médio                           N   \n",
       "3   EZYV7545       Ásia          Ensino Médio                           N   \n",
       "4  EZYV16071       Ásia       Ensino Superior                           S   \n",
       "\n",
       "  requer_treinamento_de_trabalho  num_de_empregados  ano_de_estabelecimento  \\\n",
       "0                              S               2087                    1855   \n",
       "1                              N               5991                    2003   \n",
       "2                              N               1426                    2000   \n",
       "3                              N               3846                    1992   \n",
       "4                              N               3957                    1949   \n",
       "\n",
       "  regiao_de_emprego  salario_prevalecente unidade_de_salario  \\\n",
       "0               Sul              69711.24                Ano   \n",
       "1        Meio-Oeste              52931.38                Ano   \n",
       "2              Ilha             110830.21                Ano   \n",
       "3        Meio-Oeste              91884.68             Semana   \n",
       "4          Nordeste             138155.24                Ano   \n",
       "\n",
       "  posicao_em_tempo_integral status_do_caso  \n",
       "0                         S         Negado  \n",
       "1                         S       Aprovado  \n",
       "2                         S         Negado  \n",
       "3                         S         Negado  \n",
       "4                         S       Aprovado  "
      ]
     },
     "execution_count": 4,
     "metadata": {},
     "output_type": "execute_result"
    }
   ],
   "source": [
    "train.head()"
   ]
  },
  {
   "attachments": {},
   "cell_type": "markdown",
   "metadata": {},
   "source": [
    "<a id=\"4\"></a>\n",
    "### **4. EDA**"
   ]
  },
  {
   "attachments": {},
   "cell_type": "markdown",
   "metadata": {},
   "source": [
    "<a id=\"4.1\"></a>\n",
    "**4.1. Shape**"
   ]
  },
  {
   "cell_type": "code",
   "execution_count": 5,
   "metadata": {},
   "outputs": [
    {
     "data": {
      "text/plain": [
       "(17836, 12)"
      ]
     },
     "execution_count": 5,
     "metadata": {},
     "output_type": "execute_result"
    }
   ],
   "source": [
    "train.shape"
   ]
  },
  {
   "attachments": {},
   "cell_type": "markdown",
   "metadata": {},
   "source": [
    "<a id=\"4.2\"></a>\n",
    "**4.2. General Data Information**"
   ]
  },
  {
   "cell_type": "code",
   "execution_count": 6,
   "metadata": {},
   "outputs": [
    {
     "name": "stdout",
     "output_type": "stream",
     "text": [
      "<class 'pandas.core.frame.DataFrame'>\n",
      "RangeIndex: 17836 entries, 0 to 17835\n",
      "Data columns (total 12 columns):\n",
      " #   Column                          Non-Null Count  Dtype  \n",
      "---  ------                          --------------  -----  \n",
      " 0   id_do_caso                      17836 non-null  object \n",
      " 1   continente                      17836 non-null  object \n",
      " 2   educacao_do_empregado           17836 non-null  object \n",
      " 3   tem_experiencia_de_trabalho     17836 non-null  object \n",
      " 4   requer_treinamento_de_trabalho  17836 non-null  object \n",
      " 5   num_de_empregados               17836 non-null  int64  \n",
      " 6   ano_de_estabelecimento          17836 non-null  int64  \n",
      " 7   regiao_de_emprego               17836 non-null  object \n",
      " 8   salario_prevalecente            17836 non-null  float64\n",
      " 9   unidade_de_salario              17836 non-null  object \n",
      " 10  posicao_em_tempo_integral       17836 non-null  object \n",
      " 11  status_do_caso                  17836 non-null  object \n",
      "dtypes: float64(1), int64(2), object(9)\n",
      "memory usage: 1.6+ MB\n"
     ]
    }
   ],
   "source": [
    "train.info()"
   ]
  },
  {
   "attachments": {},
   "cell_type": "markdown",
   "metadata": {},
   "source": [
    "<a id=\"4.3\"></a>\n",
    "**4.3. Target Variable Balancing**"
   ]
  },
  {
   "cell_type": "code",
   "execution_count": 7,
   "metadata": {},
   "outputs": [
    {
     "data": {
      "text/plain": [
       "status_do_caso\n",
       "Aprovado    0.669264\n",
       "Negado      0.330736\n",
       "Name: proportion, dtype: float64"
      ]
     },
     "execution_count": 7,
     "metadata": {},
     "output_type": "execute_result"
    }
   ],
   "source": [
    "train['status_do_caso'].value_counts(normalize=True)"
   ]
  },
  {
   "attachments": {},
   "cell_type": "markdown",
   "metadata": {},
   "source": [
    "<a id=\"4.4\"></a>\n",
    "**4.4. Statistical Summary**"
   ]
  },
  {
   "cell_type": "code",
   "execution_count": 8,
   "metadata": {},
   "outputs": [],
   "source": [
    "categorical_cols = (\n",
    "    train\n",
    "    .select_dtypes(include='O')\n",
    "    .drop('id_do_caso', axis=1)\n",
    "    .keys()\n",
    ")"
   ]
  },
  {
   "cell_type": "code",
   "execution_count": 9,
   "metadata": {},
   "outputs": [
    {
     "data": {
      "text/html": [
       "<div>\n",
       "<style scoped>\n",
       "    .dataframe tbody tr th:only-of-type {\n",
       "        vertical-align: middle;\n",
       "    }\n",
       "\n",
       "    .dataframe tbody tr th {\n",
       "        vertical-align: top;\n",
       "    }\n",
       "\n",
       "    .dataframe thead th {\n",
       "        text-align: right;\n",
       "    }\n",
       "</style>\n",
       "<table border=\"1\" class=\"dataframe\">\n",
       "  <thead>\n",
       "    <tr style=\"text-align: right;\">\n",
       "      <th></th>\n",
       "      <th>num_de_empregados</th>\n",
       "      <th>ano_de_estabelecimento</th>\n",
       "      <th>salario_prevalecente</th>\n",
       "    </tr>\n",
       "  </thead>\n",
       "  <tbody>\n",
       "    <tr>\n",
       "      <th>count</th>\n",
       "      <td>17836.00000</td>\n",
       "      <td>17836.000000</td>\n",
       "      <td>17836.000000</td>\n",
       "    </tr>\n",
       "    <tr>\n",
       "      <th>mean</th>\n",
       "      <td>5726.50185</td>\n",
       "      <td>1979.494898</td>\n",
       "      <td>74327.428401</td>\n",
       "    </tr>\n",
       "    <tr>\n",
       "      <th>std</th>\n",
       "      <td>23321.37739</td>\n",
       "      <td>42.097194</td>\n",
       "      <td>52795.859573</td>\n",
       "    </tr>\n",
       "    <tr>\n",
       "      <th>min</th>\n",
       "      <td>-26.00000</td>\n",
       "      <td>1800.000000</td>\n",
       "      <td>2.136700</td>\n",
       "    </tr>\n",
       "    <tr>\n",
       "      <th>25%</th>\n",
       "      <td>1023.00000</td>\n",
       "      <td>1976.000000</td>\n",
       "      <td>33892.912500</td>\n",
       "    </tr>\n",
       "    <tr>\n",
       "      <th>50%</th>\n",
       "      <td>2117.00000</td>\n",
       "      <td>1997.000000</td>\n",
       "      <td>70106.920000</td>\n",
       "    </tr>\n",
       "    <tr>\n",
       "      <th>75%</th>\n",
       "      <td>3504.25000</td>\n",
       "      <td>2005.000000</td>\n",
       "      <td>107564.715000</td>\n",
       "    </tr>\n",
       "    <tr>\n",
       "      <th>max</th>\n",
       "      <td>602069.00000</td>\n",
       "      <td>2016.000000</td>\n",
       "      <td>319210.270000</td>\n",
       "    </tr>\n",
       "  </tbody>\n",
       "</table>\n",
       "</div>"
      ],
      "text/plain": [
       "       num_de_empregados  ano_de_estabelecimento  salario_prevalecente\n",
       "count        17836.00000            17836.000000          17836.000000\n",
       "mean          5726.50185             1979.494898          74327.428401\n",
       "std          23321.37739               42.097194          52795.859573\n",
       "min            -26.00000             1800.000000              2.136700\n",
       "25%           1023.00000             1976.000000          33892.912500\n",
       "50%           2117.00000             1997.000000          70106.920000\n",
       "75%           3504.25000             2005.000000         107564.715000\n",
       "max         602069.00000             2016.000000         319210.270000"
      ]
     },
     "execution_count": 9,
     "metadata": {},
     "output_type": "execute_result"
    }
   ],
   "source": [
    "train.describe()"
   ]
  },
  {
   "cell_type": "code",
   "execution_count": 10,
   "metadata": {},
   "outputs": [
    {
     "data": {
      "text/html": [
       "<div>\n",
       "<style scoped>\n",
       "    .dataframe tbody tr th:only-of-type {\n",
       "        vertical-align: middle;\n",
       "    }\n",
       "\n",
       "    .dataframe tbody tr th {\n",
       "        vertical-align: top;\n",
       "    }\n",
       "\n",
       "    .dataframe thead th {\n",
       "        text-align: right;\n",
       "    }\n",
       "</style>\n",
       "<table border=\"1\" class=\"dataframe\">\n",
       "  <thead>\n",
       "    <tr style=\"text-align: right;\">\n",
       "      <th></th>\n",
       "      <th>num_de_empregados</th>\n",
       "      <th>ano_de_estabelecimento</th>\n",
       "      <th>salario_prevalecente</th>\n",
       "    </tr>\n",
       "  </thead>\n",
       "  <tbody>\n",
       "    <tr>\n",
       "      <th>count</th>\n",
       "      <td>7644.000000</td>\n",
       "      <td>7644.000000</td>\n",
       "      <td>7644.000000</td>\n",
       "    </tr>\n",
       "    <tr>\n",
       "      <th>mean</th>\n",
       "      <td>5528.306384</td>\n",
       "      <td>1979.211669</td>\n",
       "      <td>74755.382371</td>\n",
       "    </tr>\n",
       "    <tr>\n",
       "      <th>std</th>\n",
       "      <td>21809.034818</td>\n",
       "      <td>42.991855</td>\n",
       "      <td>52865.015248</td>\n",
       "    </tr>\n",
       "    <tr>\n",
       "      <th>min</th>\n",
       "      <td>-26.000000</td>\n",
       "      <td>1800.000000</td>\n",
       "      <td>3.003100</td>\n",
       "    </tr>\n",
       "    <tr>\n",
       "      <th>25%</th>\n",
       "      <td>1020.000000</td>\n",
       "      <td>1976.000000</td>\n",
       "      <td>34178.027500</td>\n",
       "    </tr>\n",
       "    <tr>\n",
       "      <th>50%</th>\n",
       "      <td>2094.500000</td>\n",
       "      <td>1997.000000</td>\n",
       "      <td>70716.775000</td>\n",
       "    </tr>\n",
       "    <tr>\n",
       "      <th>75%</th>\n",
       "      <td>3501.000000</td>\n",
       "      <td>2005.000000</td>\n",
       "      <td>108106.945000</td>\n",
       "    </tr>\n",
       "    <tr>\n",
       "      <th>max</th>\n",
       "      <td>547172.000000</td>\n",
       "      <td>2016.000000</td>\n",
       "      <td>306206.670000</td>\n",
       "    </tr>\n",
       "  </tbody>\n",
       "</table>\n",
       "</div>"
      ],
      "text/plain": [
       "       num_de_empregados  ano_de_estabelecimento  salario_prevalecente\n",
       "count        7644.000000             7644.000000           7644.000000\n",
       "mean         5528.306384             1979.211669          74755.382371\n",
       "std         21809.034818               42.991855          52865.015248\n",
       "min           -26.000000             1800.000000              3.003100\n",
       "25%          1020.000000             1976.000000          34178.027500\n",
       "50%          2094.500000             1997.000000          70716.775000\n",
       "75%          3501.000000             2005.000000         108106.945000\n",
       "max        547172.000000             2016.000000         306206.670000"
      ]
     },
     "execution_count": 10,
     "metadata": {},
     "output_type": "execute_result"
    }
   ],
   "source": [
    "X_test.describe()"
   ]
  },
  {
   "attachments": {},
   "cell_type": "markdown",
   "metadata": {},
   "source": [
    "The data follow similar distributions in both datasets. Here are some considerations:\n",
    "\n",
    "- **num_de_empregados:** Variable has negative values, a very high standard deviation and a very high maximum value, indicating a distribution with a very long tail to the right;\n",
    "\n",
    "- **salario_prevalecente:** This column indicates the salary earned per unit of time. The time information is contained in the column unit_de_salario, which has the units: Hour, Week, Month and Year. Therefore, it is still not possible to analyze the distribution correctly because the wage/hour rate is not standardized. Even so, it appears that the variable has a very high standard deviation and a very high maximum value, indicating a distribution with a very long tail to the right;\n",
    "\n",
    "- **year_of_establishment:** The establishment of companies ranges from the years 1800 to 2016, half of which were incorporated before 1997. The standard deviation is 42 years;"
   ]
  },
  {
   "attachments": {},
   "cell_type": "markdown",
   "metadata": {},
   "source": [
    "Total negative values ​​for column num_de_empregados in both datasets."
   ]
  },
  {
   "cell_type": "code",
   "execution_count": 11,
   "metadata": {},
   "outputs": [
    {
     "data": {
      "text/plain": [
       "33"
      ]
     },
     "execution_count": 11,
     "metadata": {},
     "output_type": "execute_result"
    }
   ],
   "source": [
    "len(train[train['num_de_empregados'] <= 0]) + len(X_test[X_test['num_de_empregados'] <= 0])"
   ]
  },
  {
   "cell_type": "code",
   "execution_count": 12,
   "metadata": {},
   "outputs": [
    {
     "data": {
      "text/html": [
       "<div>\n",
       "<style scoped>\n",
       "    .dataframe tbody tr th:only-of-type {\n",
       "        vertical-align: middle;\n",
       "    }\n",
       "\n",
       "    .dataframe tbody tr th {\n",
       "        vertical-align: top;\n",
       "    }\n",
       "\n",
       "    .dataframe thead th {\n",
       "        text-align: right;\n",
       "    }\n",
       "</style>\n",
       "<table border=\"1\" class=\"dataframe\">\n",
       "  <thead>\n",
       "    <tr style=\"text-align: right;\">\n",
       "      <th></th>\n",
       "      <th>continente</th>\n",
       "      <th>educacao_do_empregado</th>\n",
       "      <th>tem_experiencia_de_trabalho</th>\n",
       "      <th>requer_treinamento_de_trabalho</th>\n",
       "      <th>regiao_de_emprego</th>\n",
       "      <th>unidade_de_salario</th>\n",
       "      <th>posicao_em_tempo_integral</th>\n",
       "      <th>status_do_caso</th>\n",
       "    </tr>\n",
       "  </thead>\n",
       "  <tbody>\n",
       "    <tr>\n",
       "      <th>count</th>\n",
       "      <td>17836</td>\n",
       "      <td>17836</td>\n",
       "      <td>17836</td>\n",
       "      <td>17836</td>\n",
       "      <td>17836</td>\n",
       "      <td>17836</td>\n",
       "      <td>17836</td>\n",
       "      <td>17836</td>\n",
       "    </tr>\n",
       "    <tr>\n",
       "      <th>unique</th>\n",
       "      <td>6</td>\n",
       "      <td>4</td>\n",
       "      <td>2</td>\n",
       "      <td>2</td>\n",
       "      <td>5</td>\n",
       "      <td>4</td>\n",
       "      <td>2</td>\n",
       "      <td>2</td>\n",
       "    </tr>\n",
       "    <tr>\n",
       "      <th>top</th>\n",
       "      <td>Ásia</td>\n",
       "      <td>Ensino Superior</td>\n",
       "      <td>S</td>\n",
       "      <td>N</td>\n",
       "      <td>Nordeste</td>\n",
       "      <td>Ano</td>\n",
       "      <td>S</td>\n",
       "      <td>Aprovado</td>\n",
       "    </tr>\n",
       "    <tr>\n",
       "      <th>freq</th>\n",
       "      <td>11765</td>\n",
       "      <td>7151</td>\n",
       "      <td>10380</td>\n",
       "      <td>15755</td>\n",
       "      <td>5064</td>\n",
       "      <td>16089</td>\n",
       "      <td>15934</td>\n",
       "      <td>11937</td>\n",
       "    </tr>\n",
       "  </tbody>\n",
       "</table>\n",
       "</div>"
      ],
      "text/plain": [
       "       continente educacao_do_empregado tem_experiencia_de_trabalho  \\\n",
       "count       17836                 17836                       17836   \n",
       "unique          6                     4                           2   \n",
       "top          Ásia       Ensino Superior                           S   \n",
       "freq        11765                  7151                       10380   \n",
       "\n",
       "       requer_treinamento_de_trabalho regiao_de_emprego unidade_de_salario  \\\n",
       "count                           17836             17836              17836   \n",
       "unique                              2                 5                  4   \n",
       "top                                 N          Nordeste                Ano   \n",
       "freq                            15755              5064              16089   \n",
       "\n",
       "       posicao_em_tempo_integral status_do_caso  \n",
       "count                      17836          17836  \n",
       "unique                         2              2  \n",
       "top                            S       Aprovado  \n",
       "freq                       15934          11937  "
      ]
     },
     "execution_count": 12,
     "metadata": {},
     "output_type": "execute_result"
    }
   ],
   "source": [
    "train[categorical_cols].describe()"
   ]
  },
  {
   "cell_type": "code",
   "execution_count": 13,
   "metadata": {},
   "outputs": [
    {
     "data": {
      "text/html": [
       "<div>\n",
       "<style scoped>\n",
       "    .dataframe tbody tr th:only-of-type {\n",
       "        vertical-align: middle;\n",
       "    }\n",
       "\n",
       "    .dataframe tbody tr th {\n",
       "        vertical-align: top;\n",
       "    }\n",
       "\n",
       "    .dataframe thead th {\n",
       "        text-align: right;\n",
       "    }\n",
       "</style>\n",
       "<table border=\"1\" class=\"dataframe\">\n",
       "  <thead>\n",
       "    <tr style=\"text-align: right;\">\n",
       "      <th></th>\n",
       "      <th>continente</th>\n",
       "      <th>educacao_do_empregado</th>\n",
       "      <th>tem_experiencia_de_trabalho</th>\n",
       "      <th>requer_treinamento_de_trabalho</th>\n",
       "      <th>regiao_de_emprego</th>\n",
       "      <th>unidade_de_salario</th>\n",
       "      <th>posicao_em_tempo_integral</th>\n",
       "    </tr>\n",
       "  </thead>\n",
       "  <tbody>\n",
       "    <tr>\n",
       "      <th>count</th>\n",
       "      <td>7644</td>\n",
       "      <td>7644</td>\n",
       "      <td>7644</td>\n",
       "      <td>7644</td>\n",
       "      <td>7644</td>\n",
       "      <td>7644</td>\n",
       "      <td>7644</td>\n",
       "    </tr>\n",
       "    <tr>\n",
       "      <th>unique</th>\n",
       "      <td>6</td>\n",
       "      <td>4</td>\n",
       "      <td>2</td>\n",
       "      <td>2</td>\n",
       "      <td>5</td>\n",
       "      <td>4</td>\n",
       "      <td>2</td>\n",
       "    </tr>\n",
       "    <tr>\n",
       "      <th>top</th>\n",
       "      <td>Ásia</td>\n",
       "      <td>Ensino Superior</td>\n",
       "      <td>S</td>\n",
       "      <td>N</td>\n",
       "      <td>Nordeste</td>\n",
       "      <td>Ano</td>\n",
       "      <td>S</td>\n",
       "    </tr>\n",
       "    <tr>\n",
       "      <th>freq</th>\n",
       "      <td>5096</td>\n",
       "      <td>3083</td>\n",
       "      <td>4422</td>\n",
       "      <td>6770</td>\n",
       "      <td>2131</td>\n",
       "      <td>6873</td>\n",
       "      <td>6839</td>\n",
       "    </tr>\n",
       "  </tbody>\n",
       "</table>\n",
       "</div>"
      ],
      "text/plain": [
       "       continente educacao_do_empregado tem_experiencia_de_trabalho  \\\n",
       "count        7644                  7644                        7644   \n",
       "unique          6                     4                           2   \n",
       "top          Ásia       Ensino Superior                           S   \n",
       "freq         5096                  3083                        4422   \n",
       "\n",
       "       requer_treinamento_de_trabalho regiao_de_emprego unidade_de_salario  \\\n",
       "count                            7644              7644               7644   \n",
       "unique                              2                 5                  4   \n",
       "top                                 N          Nordeste                Ano   \n",
       "freq                             6770              2131               6873   \n",
       "\n",
       "       posicao_em_tempo_integral  \n",
       "count                       7644  \n",
       "unique                         2  \n",
       "top                            S  \n",
       "freq                        6839  "
      ]
     },
     "execution_count": 13,
     "metadata": {},
     "output_type": "execute_result"
    }
   ],
   "source": [
    "X_test[categorical_cols[:-1]].describe()"
   ]
  },
  {
   "attachments": {},
   "cell_type": "markdown",
   "metadata": {},
   "source": [
    "<a id=\"4.5\"></a>\n",
    "**4.5. Data Visualization**"
   ]
  },
  {
   "attachments": {},
   "cell_type": "markdown",
   "metadata": {},
   "source": [
    "<a id=\"4.5.1\"></a>\n",
    "**4.5.1. Categorical Variables**\n",
    "\n",
    "The plots are very objective, seeking to identify how the different classes within each category influence the target variable and tend to be good predictor variables."
   ]
  },
  {
   "cell_type": "code",
   "execution_count": 15,
   "metadata": {},
   "outputs": [
    {
     "data": {
      "image/png": "[encoded data removed]",
      "text/plain": [
       "<Figure size 1500x800 with 6 Axes>"
      ]
     },
     "metadata": {},
     "output_type": "display_data"
    }
   ],
   "source": [
    "categorical_cols = categorical_cols.delete([5, 7]) # Remove features that I will not use in the plot, salary_unit and case_status\n",
    "categorical_titles = ['Continente', 'Nível de Educação', 'Tem Experiência', 'Requer Treinamento', 'Região do Emprego', 'Trabalho em Período Integral']\n",
    "\n",
    "fig, ((ax1, ax2, ax3), ( ax4, ax5, ax6)) = plt.subplots(2, 3, figsize=(15, 8))\n",
    "axes = [ax1, ax2, ax3, ax4, ax5, ax6]\n",
    "\n",
    "for i in range(len(categorical_cols)):\n",
    "    ax = axes[i]\n",
    "    sns.countplot(data=train, x=categorical_cols[i], hue='status_do_caso', palette='muted', ax=ax, hue_order=['Aprovado', 'Negado'])\n",
    "    ax.set_title(categorical_titles[i])\n",
    "    ax.set_xlabel('')\n",
    "    _, labels = ax.get_legend_handles_labels()\n",
    "    ax.legend(labels=labels[:])\n",
    "    if categorical_titles[i] == 'Continente':\n",
    "        ax.tick_params(axis='x', rotation=20, labelsize=9)\n",
    "    else:\n",
    "        ax.tick_params(axis='x', labelsize=9)\n",
    "\n",
    "fig.tight_layout()\n",
    "\n",
    "plt.show()"
   ]
  },
  {
   "attachments": {},
   "cell_type": "markdown",
   "metadata": {},
   "source": [
    "Through the analysis of the plots, it can be seen that the variables **educacao_do_empregado** and **tem_experiencia_de_work** have greater potential as predictors, since the variation of the class has an impact on the number of passers and failers."
   ]
  },
  {
   "attachments": {},
   "cell_type": "markdown",
   "metadata": {},
   "source": [
    "<a id=\"4.5.2\"></a>\n",
    "**4.5.2. Numerical Variables**"
   ]
  },
  {
   "attachments": {},
   "cell_type": "markdown",
   "metadata": {},
   "source": [
    "A value window was selected for the plot of column num_de_empregados because the distribution has a very elongated tail on the right, which makes it impossible to visualize the distribution. It was also decided to leave the visualization of the columnar salario_prevalecente for a moment after its standardization."
   ]
  },
  {
   "cell_type": "code",
   "execution_count": 16,
   "metadata": {},
   "outputs": [],
   "source": [
    "num_empregados_plot = (\n",
    "    train\n",
    "    .query('num_de_empregados < 8000')\n",
    "    .get('num_de_empregados')\n",
    ")"
   ]
  },
  {
   "cell_type": "code",
   "execution_count": 17,
   "metadata": {},
   "outputs": [
    {
     "data": {
      "image/png": "[encoded data removed]",
      "text/plain": [
       "<Figure size 1500x400 with 2 Axes>"
      ]
     },
     "metadata": {},
     "output_type": "display_data"
    }
   ],
   "source": [
    "fig, (ax1, ax2) = plt.subplots(1, 2, figsize=(15, 4))\n",
    "\n",
    "sns.histplot(data=train, x='ano_de_estabelecimento', hue='status_do_caso', ax=ax1, kde=True, legend=False)\n",
    "ax1.set_title('Ano de estabelecimento')\n",
    "ax1.set_xlabel('')\n",
    "ax1.tick_params(axis='x', rotation=25, labelsize=7)\n",
    "\n",
    "sns.histplot(data=train, x=num_empregados_plot, hue='status_do_caso', ax=ax2, kde=True, legend=False)\n",
    "ax2.set_title('Número de empregados')\n",
    "ax2.set_xlabel('')\n",
    "ax2.tick_params(axis='x', rotation=25, labelsize=7)"
   ]
  },
  {
   "attachments": {},
   "cell_type": "markdown",
   "metadata": {},
   "source": [
    "<a id=\"5\"></a>\n",
    "### **5. Feature Engeneering**"
   ]
  },
  {
   "attachments": {},
   "cell_type": "markdown",
   "metadata": {},
   "source": [
    "<a id=\"5.1\"></a>\n",
    "**5.1. Fit for Work**\n",
    "\n",
    "This column is the union of the information coming from the columns **require_training_of_work** and **have_experience_of_work**. It was considered that the candidate who already has experience and does not need training is fit."
   ]
  },
  {
   "cell_type": "code",
   "execution_count": 18,
   "metadata": {},
   "outputs": [],
   "source": [
    "train['apto_ao_trabalho'] = (\n",
    "    train['requer_treinamento_de_trabalho'] +\n",
    "    '_' +\n",
    "    train['tem_experiencia_de_trabalho']\n",
    ")\n",
    "\n",
    "X_test['apto_ao_trabalho'] = (\n",
    "    X_test['requer_treinamento_de_trabalho'] + \n",
    "    '_' +\n",
    "    X_test['tem_experiencia_de_trabalho']\n",
    ")\n",
    "\n",
    "train['apto_ao_trabalho'] = train['apto_ao_trabalho'].replace(['N_N', 'N_S', 'S_N', 'S_S'], [0, 0, 0, 1])\n",
    "X_test['apto_ao_trabalho'] = X_test['apto_ao_trabalho'].replace(['N_N', 'N_S', 'S_N', 'S_S'], [0, 0, 0, 1])\n",
    "\n",
    "train = train.drop(['requer_treinamento_de_trabalho'], axis=1)\n",
    "X_test = X_test.drop(['requer_treinamento_de_trabalho'], axis=1)"
   ]
  },
  {
   "attachments": {},
   "cell_type": "markdown",
   "metadata": {},
   "source": [
    "<a id=\"5.2\"></a>\n",
    "**5.2. Company Age**"
   ]
  },
  {
   "cell_type": "code",
   "execution_count": 19,
   "metadata": {},
   "outputs": [],
   "source": [
    "ano_atual = datetime.now().year\n",
    "\n",
    "train['tempo_empresa'] = ano_atual - train['ano_de_estabelecimento']\n",
    "X_test['tempo_empresa'] = ano_atual - X_test['ano_de_estabelecimento']\n",
    "\n",
    "train = train.drop(['ano_de_estabelecimento'], axis=1)\n",
    "X_test = X_test.drop(['ano_de_estabelecimento'], axis=1)"
   ]
  },
  {
   "attachments": {},
   "cell_type": "markdown",
   "metadata": {},
   "source": [
    "<a id=\"5.3\"></a>\n",
    "**5.3. Case Status**"
   ]
  },
  {
   "attachments": {},
   "cell_type": "markdown",
   "metadata": {},
   "source": [
    "The transformation of the target column **status_do_case** was carried out at this point for the correct functioning of the **OptimalBinning** class that is used in the next topics."
   ]
  },
  {
   "cell_type": "code",
   "execution_count": 20,
   "metadata": {},
   "outputs": [],
   "source": [
    "train['status_do_caso'] = train['status_do_caso'].replace(['Negado', 'Aprovado'], [0, 1])"
   ]
  },
  {
   "attachments": {},
   "cell_type": "markdown",
   "metadata": {},
   "source": [
    "<a id=\"5.4\"></a>\n",
    "**5.4. Number of Discretized Employees**"
   ]
  },
  {
   "attachments": {},
   "cell_type": "markdown",
   "metadata": {},
   "source": [
    "**Supervised Discretization**"
   ]
  },
  {
   "cell_type": "code",
   "execution_count": 21,
   "metadata": {},
   "outputs": [
    {
     "data": {
      "text/html": [
       "<div>\n",
       "<style scoped>\n",
       "    .dataframe tbody tr th:only-of-type {\n",
       "        vertical-align: middle;\n",
       "    }\n",
       "\n",
       "    .dataframe tbody tr th {\n",
       "        vertical-align: top;\n",
       "    }\n",
       "\n",
       "    .dataframe thead th {\n",
       "        text-align: right;\n",
       "    }\n",
       "</style>\n",
       "<table border=\"1\" class=\"dataframe\">\n",
       "  <thead>\n",
       "    <tr style=\"text-align: right;\">\n",
       "      <th></th>\n",
       "      <th>Bin</th>\n",
       "      <th>Count</th>\n",
       "      <th>Count (%)</th>\n",
       "      <th>Non-event</th>\n",
       "      <th>Event</th>\n",
       "      <th>Event rate</th>\n",
       "      <th>WoE</th>\n",
       "      <th>IV</th>\n",
       "      <th>JS</th>\n",
       "    </tr>\n",
       "  </thead>\n",
       "  <tbody>\n",
       "    <tr>\n",
       "      <th>0</th>\n",
       "      <td>(-inf, 3130.50)</td>\n",
       "      <td>12360</td>\n",
       "      <td>0.692980</td>\n",
       "      <td>4146</td>\n",
       "      <td>8214</td>\n",
       "      <td>0.664563</td>\n",
       "      <td>0.021164</td>\n",
       "      <td>0.000311</td>\n",
       "      <td>0.000039</td>\n",
       "    </tr>\n",
       "    <tr>\n",
       "      <th>1</th>\n",
       "      <td>[3130.50, 3481.50)</td>\n",
       "      <td>962</td>\n",
       "      <td>0.053936</td>\n",
       "      <td>368</td>\n",
       "      <td>594</td>\n",
       "      <td>0.617464</td>\n",
       "      <td>0.226064</td>\n",
       "      <td>0.002853</td>\n",
       "      <td>0.000356</td>\n",
       "    </tr>\n",
       "    <tr>\n",
       "      <th>2</th>\n",
       "      <td>[3481.50, 4415.50)</td>\n",
       "      <td>1881</td>\n",
       "      <td>0.105461</td>\n",
       "      <td>592</td>\n",
       "      <td>1289</td>\n",
       "      <td>0.685274</td>\n",
       "      <td>-0.073255</td>\n",
       "      <td>0.000559</td>\n",
       "      <td>0.000070</td>\n",
       "    </tr>\n",
       "    <tr>\n",
       "      <th>3</th>\n",
       "      <td>[4415.50, inf)</td>\n",
       "      <td>2633</td>\n",
       "      <td>0.147623</td>\n",
       "      <td>793</td>\n",
       "      <td>1840</td>\n",
       "      <td>0.698823</td>\n",
       "      <td>-0.136838</td>\n",
       "      <td>0.002697</td>\n",
       "      <td>0.000337</td>\n",
       "    </tr>\n",
       "    <tr>\n",
       "      <th>4</th>\n",
       "      <td>Special</td>\n",
       "      <td>0</td>\n",
       "      <td>0.000000</td>\n",
       "      <td>0</td>\n",
       "      <td>0</td>\n",
       "      <td>0.000000</td>\n",
       "      <td>0.0</td>\n",
       "      <td>0.000000</td>\n",
       "      <td>0.000000</td>\n",
       "    </tr>\n",
       "    <tr>\n",
       "      <th>5</th>\n",
       "      <td>Missing</td>\n",
       "      <td>0</td>\n",
       "      <td>0.000000</td>\n",
       "      <td>0</td>\n",
       "      <td>0</td>\n",
       "      <td>0.000000</td>\n",
       "      <td>0.0</td>\n",
       "      <td>0.000000</td>\n",
       "      <td>0.000000</td>\n",
       "    </tr>\n",
       "    <tr>\n",
       "      <th>Totals</th>\n",
       "      <td></td>\n",
       "      <td>17836</td>\n",
       "      <td>1.000000</td>\n",
       "      <td>5899</td>\n",
       "      <td>11937</td>\n",
       "      <td>0.669264</td>\n",
       "      <td></td>\n",
       "      <td>0.006421</td>\n",
       "      <td>0.000802</td>\n",
       "    </tr>\n",
       "  </tbody>\n",
       "</table>\n",
       "</div>"
      ],
      "text/plain": [
       "                       Bin  Count  Count (%)  Non-event  Event  Event rate  \\\n",
       "0          (-inf, 3130.50)  12360   0.692980       4146   8214    0.664563   \n",
       "1       [3130.50, 3481.50)    962   0.053936        368    594    0.617464   \n",
       "2       [3481.50, 4415.50)   1881   0.105461        592   1289    0.685274   \n",
       "3           [4415.50, inf)   2633   0.147623        793   1840    0.698823   \n",
       "4                  Special      0   0.000000          0      0    0.000000   \n",
       "5                  Missing      0   0.000000          0      0    0.000000   \n",
       "Totals                      17836   1.000000       5899  11937    0.669264   \n",
       "\n",
       "             WoE        IV        JS  \n",
       "0       0.021164  0.000311  0.000039  \n",
       "1       0.226064  0.002853  0.000356  \n",
       "2      -0.073255  0.000559  0.000070  \n",
       "3      -0.136838  0.002697  0.000337  \n",
       "4            0.0  0.000000  0.000000  \n",
       "5            0.0  0.000000  0.000000  \n",
       "Totals            0.006421  0.000802  "
      ]
     },
     "execution_count": 21,
     "metadata": {},
     "output_type": "execute_result"
    }
   ],
   "source": [
    "optb = OptimalBinning(name='num_de_empregados' , dtype='numerical', solver='mip')\n",
    "optb.fit(train['num_de_empregados'], train['status_do_caso'])\n",
    "binning_table = optb.binning_table\n",
    "binning_table.build()"
   ]
  },
  {
   "attachments": {},
   "cell_type": "markdown",
   "metadata": {},
   "source": [
    "- **Bin:** the intervals delimited by the optimal split points;\n",
    "\n",
    "- **Count:** the number of records for each bin;\n",
    "\n",
    "- **Count (%):** the percentage of records for each bin;\n",
    "\n",
    "- **Non-event:** the number of non-event records (y=0)\n",
    "\n",
    "for each bin;\n",
    "\n",
    "- **Event:** the number of event records (y=1)\n",
    "\n",
    "for each bin;\n",
    "\n",
    "- **Event rate:** the percentage of event records for each bin;\n",
    "\n",
    "- **WoE:** the Weight-of-Evidence for each bin;\n",
    "\n",
    "- **IV:** the Information Value (also known as Jeffrey’s divergence) for each bin;\n",
    "\n",
    "- **JS:** the Jensen-Shannon divergence for each bin;"
   ]
  },
  {
   "cell_type": "code",
   "execution_count": 22,
   "metadata": {},
   "outputs": [
    {
     "data": {
      "image/png": "[encoded data removed]",
      "text/plain": [
       "<Figure size 640x480 with 2 Axes>"
      ]
     },
     "metadata": {},
     "output_type": "display_data"
    }
   ],
   "source": [
    "binning_table.plot(metric='woe')"
   ]
  },
  {
   "cell_type": "code",
   "execution_count": 23,
   "metadata": {},
   "outputs": [],
   "source": [
    "min = train['num_de_empregados'].min()\n",
    "max = train['num_de_empregados'].max()\n",
    "bins = np.concatenate(([min-1], optb.splits, [max+1]))"
   ]
  },
  {
   "cell_type": "code",
   "execution_count": 24,
   "metadata": {},
   "outputs": [],
   "source": [
    "train['num_de_empregados_cut'] = pd.cut(train['num_de_empregados'], \n",
    "                                        bins = bins, \n",
    "                                        labels = list(range(1, len(bins))))\n",
    "\n",
    "X_test['num_de_empregados_cut'] = pd.cut(X_test['num_de_empregados'], \n",
    "                                        bins, \n",
    "                                        labels = list(range(1, len(bins))))\n",
    "\n",
    "train = train.drop(['num_de_empregados'], axis=1)\n",
    "X_test = X_test.drop(['num_de_empregados'], axis=1)\n",
    "\n",
    "train['num_de_empregados_cut'] = train['num_de_empregados_cut'].astype(int)\n",
    "X_test['num_de_empregados_cut'] = X_test['num_de_empregados_cut'].astype(int)"
   ]
  },
  {
   "attachments": {},
   "cell_type": "markdown",
   "metadata": {},
   "source": [
    "<a id=\"5.5\"></a>\n",
    "**5.5. Prevailing Salary Discretized Hour**"
   ]
  },
  {
   "attachments": {},
   "cell_type": "markdown",
   "metadata": {},
   "source": [
    "As previously mentioned, salary/time information is divided into three distinct columns: **prevailing_salary**, **salary_unit** and **full-time_position**. Therefore, in the first column we have the numerical information of the salary, in the second the unit of time in which this salary is received and in the last the factor that says whether the position is full-time, which directly affects the number of working hours in certain time. The different classes for each column generate a lack of standardization of salary/time information, which can be, for example, salary/hour, salary/week, and this makes it difficult to analyze the information. Machine learning algorithms are able to learn the relationships between variables, but in order to improve the model result, it was decided to centralize the information.\n",
    "\n",
    "Example: a week has 40 working hours, if it is a part-time job this value drops to 20 hours. Assuming that the prevailing wage is 500 and the wage unit per week we will have a wage of 500/week. Therefore, the candidate is earning 12.5/hour worked if full-time and 25/hour if part-time."
   ]
  },
  {
   "cell_type": "code",
   "execution_count": 25,
   "metadata": {},
   "outputs": [],
   "source": [
    "train['salario_prevalecente_hora'] = train.apply(standardize_salary_per_hour, axis=1)\n",
    "X_test['salario_prevalecente_hora'] = X_test.apply(standardize_salary_per_hour, axis=1)\n",
    "train = train.drop(['salario_prevalecente'], axis=1)\n",
    "X_test = X_test.drop(['salario_prevalecente'], axis=1)"
   ]
  },
  {
   "attachments": {},
   "cell_type": "markdown",
   "metadata": {},
   "source": [
    "**Discretização Supervisionada** "
   ]
  },
  {
   "cell_type": "code",
   "execution_count": 26,
   "metadata": {},
   "outputs": [
    {
     "data": {
      "text/html": [
       "<div>\n",
       "<style scoped>\n",
       "    .dataframe tbody tr th:only-of-type {\n",
       "        vertical-align: middle;\n",
       "    }\n",
       "\n",
       "    .dataframe tbody tr th {\n",
       "        vertical-align: top;\n",
       "    }\n",
       "\n",
       "    .dataframe thead th {\n",
       "        text-align: right;\n",
       "    }\n",
       "</style>\n",
       "<table border=\"1\" class=\"dataframe\">\n",
       "  <thead>\n",
       "    <tr style=\"text-align: right;\">\n",
       "      <th></th>\n",
       "      <th>Bin</th>\n",
       "      <th>Count</th>\n",
       "      <th>Count (%)</th>\n",
       "      <th>Non-event</th>\n",
       "      <th>Event</th>\n",
       "      <th>Event rate</th>\n",
       "      <th>WoE</th>\n",
       "      <th>IV</th>\n",
       "      <th>JS</th>\n",
       "    </tr>\n",
       "  </thead>\n",
       "  <tbody>\n",
       "    <tr>\n",
       "      <th>0</th>\n",
       "      <td>(-inf, 10.55)</td>\n",
       "      <td>1676</td>\n",
       "      <td>0.093967</td>\n",
       "      <td>420</td>\n",
       "      <td>1256</td>\n",
       "      <td>0.749403</td>\n",
       "      <td>-0.390573</td>\n",
       "      <td>0.013288</td>\n",
       "      <td>0.001650</td>\n",
       "    </tr>\n",
       "    <tr>\n",
       "      <th>1</th>\n",
       "      <td>[10.55, 16.12)</td>\n",
       "      <td>1118</td>\n",
       "      <td>0.062682</td>\n",
       "      <td>335</td>\n",
       "      <td>783</td>\n",
       "      <td>0.700358</td>\n",
       "      <td>-0.144142</td>\n",
       "      <td>0.001269</td>\n",
       "      <td>0.000159</td>\n",
       "    </tr>\n",
       "    <tr>\n",
       "      <th>2</th>\n",
       "      <td>[16.12, 42.75)</td>\n",
       "      <td>6310</td>\n",
       "      <td>0.353779</td>\n",
       "      <td>1899</td>\n",
       "      <td>4411</td>\n",
       "      <td>0.699049</td>\n",
       "      <td>-0.137914</td>\n",
       "      <td>0.006565</td>\n",
       "      <td>0.000820</td>\n",
       "    </tr>\n",
       "    <tr>\n",
       "      <th>3</th>\n",
       "      <td>[42.75, 52.81)</td>\n",
       "      <td>2055</td>\n",
       "      <td>0.115216</td>\n",
       "      <td>634</td>\n",
       "      <td>1421</td>\n",
       "      <td>0.691484</td>\n",
       "      <td>-0.102207</td>\n",
       "      <td>0.001182</td>\n",
       "      <td>0.000148</td>\n",
       "    </tr>\n",
       "    <tr>\n",
       "      <th>4</th>\n",
       "      <td>[52.81, 76.32)</td>\n",
       "      <td>2954</td>\n",
       "      <td>0.165620</td>\n",
       "      <td>950</td>\n",
       "      <td>2004</td>\n",
       "      <td>0.678402</td>\n",
       "      <td>-0.041579</td>\n",
       "      <td>0.000284</td>\n",
       "      <td>0.000036</td>\n",
       "    </tr>\n",
       "    <tr>\n",
       "      <th>5</th>\n",
       "      <td>[76.32, 100.21)</td>\n",
       "      <td>892</td>\n",
       "      <td>0.050011</td>\n",
       "      <td>308</td>\n",
       "      <td>584</td>\n",
       "      <td>0.654709</td>\n",
       "      <td>0.065059</td>\n",
       "      <td>0.000214</td>\n",
       "      <td>0.000027</td>\n",
       "    </tr>\n",
       "    <tr>\n",
       "      <th>6</th>\n",
       "      <td>[100.21, 151.04)</td>\n",
       "      <td>1222</td>\n",
       "      <td>0.068513</td>\n",
       "      <td>451</td>\n",
       "      <td>771</td>\n",
       "      <td>0.630933</td>\n",
       "      <td>0.168639</td>\n",
       "      <td>0.002001</td>\n",
       "      <td>0.000250</td>\n",
       "    </tr>\n",
       "    <tr>\n",
       "      <th>7</th>\n",
       "      <td>[151.04, inf)</td>\n",
       "      <td>1609</td>\n",
       "      <td>0.090211</td>\n",
       "      <td>902</td>\n",
       "      <td>707</td>\n",
       "      <td>0.439403</td>\n",
       "      <td>0.948444</td>\n",
       "      <td>0.088850</td>\n",
       "      <td>0.010708</td>\n",
       "    </tr>\n",
       "    <tr>\n",
       "      <th>8</th>\n",
       "      <td>Special</td>\n",
       "      <td>0</td>\n",
       "      <td>0.000000</td>\n",
       "      <td>0</td>\n",
       "      <td>0</td>\n",
       "      <td>0.000000</td>\n",
       "      <td>0.0</td>\n",
       "      <td>0.000000</td>\n",
       "      <td>0.000000</td>\n",
       "    </tr>\n",
       "    <tr>\n",
       "      <th>9</th>\n",
       "      <td>Missing</td>\n",
       "      <td>0</td>\n",
       "      <td>0.000000</td>\n",
       "      <td>0</td>\n",
       "      <td>0</td>\n",
       "      <td>0.000000</td>\n",
       "      <td>0.0</td>\n",
       "      <td>0.000000</td>\n",
       "      <td>0.000000</td>\n",
       "    </tr>\n",
       "    <tr>\n",
       "      <th>Totals</th>\n",
       "      <td></td>\n",
       "      <td>17836</td>\n",
       "      <td>1.000000</td>\n",
       "      <td>5899</td>\n",
       "      <td>11937</td>\n",
       "      <td>0.669264</td>\n",
       "      <td></td>\n",
       "      <td>0.113653</td>\n",
       "      <td>0.013797</td>\n",
       "    </tr>\n",
       "  </tbody>\n",
       "</table>\n",
       "</div>"
      ],
      "text/plain": [
       "                     Bin  Count  Count (%)  Non-event  Event  Event rate  \\\n",
       "0          (-inf, 10.55)   1676   0.093967        420   1256    0.749403   \n",
       "1         [10.55, 16.12)   1118   0.062682        335    783    0.700358   \n",
       "2         [16.12, 42.75)   6310   0.353779       1899   4411    0.699049   \n",
       "3         [42.75, 52.81)   2055   0.115216        634   1421    0.691484   \n",
       "4         [52.81, 76.32)   2954   0.165620        950   2004    0.678402   \n",
       "5        [76.32, 100.21)    892   0.050011        308    584    0.654709   \n",
       "6       [100.21, 151.04)   1222   0.068513        451    771    0.630933   \n",
       "7          [151.04, inf)   1609   0.090211        902    707    0.439403   \n",
       "8                Special      0   0.000000          0      0    0.000000   \n",
       "9                Missing      0   0.000000          0      0    0.000000   \n",
       "Totals                    17836   1.000000       5899  11937    0.669264   \n",
       "\n",
       "             WoE        IV        JS  \n",
       "0      -0.390573  0.013288  0.001650  \n",
       "1      -0.144142  0.001269  0.000159  \n",
       "2      -0.137914  0.006565  0.000820  \n",
       "3      -0.102207  0.001182  0.000148  \n",
       "4      -0.041579  0.000284  0.000036  \n",
       "5       0.065059  0.000214  0.000027  \n",
       "6       0.168639  0.002001  0.000250  \n",
       "7       0.948444  0.088850  0.010708  \n",
       "8            0.0  0.000000  0.000000  \n",
       "9            0.0  0.000000  0.000000  \n",
       "Totals            0.113653  0.013797  "
      ]
     },
     "execution_count": 26,
     "metadata": {},
     "output_type": "execute_result"
    }
   ],
   "source": [
    "optb = OptimalBinning(name='salario_prevalecente_hora' , dtype='numerical', solver='mip')\n",
    "optb.fit(train['salario_prevalecente_hora'], train['status_do_caso'])\n",
    "binning_table = optb.binning_table\n",
    "binning_table.build()"
   ]
  },
  {
   "cell_type": "code",
   "execution_count": 27,
   "metadata": {},
   "outputs": [
    {
     "data": {
      "image/png": "[encoded data removed]",
      "text/plain": [
       "<Figure size 640x480 with 2 Axes>"
      ]
     },
     "metadata": {},
     "output_type": "display_data"
    }
   ],
   "source": [
    "binning_table.plot(metric='woe')"
   ]
  },
  {
   "cell_type": "code",
   "execution_count": 28,
   "metadata": {},
   "outputs": [],
   "source": [
    "min = train['salario_prevalecente_hora'].min()\n",
    "max = train['salario_prevalecente_hora'].max()\n",
    "bins = np.concatenate(([min-1], optb.splits, [max+1]))"
   ]
  },
  {
   "cell_type": "code",
   "execution_count": 29,
   "metadata": {},
   "outputs": [],
   "source": [
    "\n",
    "train[f'salario_prevalecente_hora_cut'] = pd.cut(train['salario_prevalecente_hora'], \n",
    "                                        bins = bins, \n",
    "                                        labels = list(range(1, len(bins)))\n",
    "                                        )\n",
    "\n",
    "X_test[f'salario_prevalecente_hora_cut'] = pd.cut(X_test['salario_prevalecente_hora'], \n",
    "                                        bins, \n",
    "                                        labels = list(range(1, len(bins)))\n",
    "                                        )\n",
    "\n",
    "train = train.drop(['salario_prevalecente_hora'], axis=1)\n",
    "X_test = X_test.drop(['salario_prevalecente_hora'], axis=1)\n",
    "\n",
    "train['salario_prevalecente_hora_cut'] = train['salario_prevalecente_hora_cut'].astype(int)\n",
    "X_test['salario_prevalecente_hora_cut'] = X_test['salario_prevalecente_hora_cut'].astype(int)"
   ]
  },
  {
   "attachments": {},
   "cell_type": "markdown",
   "metadata": {},
   "source": [
    "<a id=\"6\"></a>\n",
    "### **6. Pré-processamento**"
   ]
  },
  {
   "cell_type": "code",
   "execution_count": 30,
   "metadata": {},
   "outputs": [],
   "source": [
    "nominal_cols = ['continente', 'regiao_de_emprego']\n",
    "\n",
    "ordinal_cols = [\n",
    "    'tem_experiencia_de_trabalho', \n",
    "    'posicao_em_tempo_integral',\n",
    "    'educacao_do_empregado',\n",
    "    'unidade_de_salario',\n",
    "]"
   ]
  },
  {
   "cell_type": "code",
   "execution_count": 31,
   "metadata": {},
   "outputs": [],
   "source": [
    "ordinal_encoder = OrdinalEncoder(categories=[\n",
    "    ['N', 'S'], # tem_experiencia_de_trabalho\n",
    "    ['N', 'S'], # posicao_em_tempo_integral\n",
    "    ['Ensino Médio', 'Ensino Superior', 'Mestrado', 'Doutorado'], # educacao_do_empregado\n",
    "    ['Hora', 'Semana', 'Mês', 'Ano'] # unidade_de_salario\n",
    "])\n",
    "\n",
    "train[ordinal_cols] = ordinal_encoder.fit_transform(train[ordinal_cols])\n",
    "X_test[ordinal_cols] = ordinal_encoder.transform(X_test[ordinal_cols])"
   ]
  },
  {
   "cell_type": "code",
   "execution_count": 32,
   "metadata": {},
   "outputs": [],
   "source": [
    "OH_encoder = OneHotEncoder(handle_unknown='ignore', sparse_output=False)\n",
    "    \n",
    "OH_cols_train = pd.DataFrame(OH_encoder.fit_transform(train[nominal_cols]))\n",
    "OH_cols_test = pd.DataFrame(OH_encoder.transform(X_test[nominal_cols]))\n",
    "\n",
    "OH_cols_train.index = train.index\n",
    "OH_cols_test.index = X_test.index\n",
    "\n",
    "X_train = train.drop(nominal_cols, axis=1)\n",
    "X_test = X_test.drop(nominal_cols, axis=1)\n",
    "\n",
    "OH_X_train = pd.concat([X_train, OH_cols_train], axis=1)\n",
    "OH_X_test = pd.concat([X_test, OH_cols_test], axis=1)\n",
    "\n",
    "OH_X_train.columns = OH_X_train.columns.astype(str)\n",
    "OH_X_test.columns = OH_X_test.columns.astype(str)"
   ]
  },
  {
   "attachments": {},
   "cell_type": "markdown",
   "metadata": {},
   "source": [
    "<a id=\"7\"></a>\n",
    "### **7. Train**"
   ]
  },
  {
   "attachments": {},
   "cell_type": "markdown",
   "metadata": {},
   "source": [
    "<a id=\"7.1\"></a>\n",
    "**7.1. Splitting matrix of features and vector with target variable** "
   ]
  },
  {
   "cell_type": "code",
   "execution_count": 33,
   "metadata": {},
   "outputs": [],
   "source": [
    "y_train = OH_X_train['status_do_caso'].values.ravel()\n",
    "OH_X_train = OH_X_train.drop(['status_do_caso', 'id_do_caso'], axis=1)"
   ]
  },
  {
   "attachments": {},
   "cell_type": "markdown",
   "metadata": {},
   "source": [
    "<a id=\"7.2\"></a>\n",
    "**7.2. Splitting test data**"
   ]
  },
  {
   "cell_type": "code",
   "execution_count": 34,
   "metadata": {},
   "outputs": [],
   "source": [
    "# Format for submission\n",
    "test_ids = pd.DataFrame(OH_X_test['id_do_caso'])\n",
    "# Remove id\n",
    "OH_X_test = OH_X_test.drop(['id_do_caso'], axis=1)"
   ]
  },
  {
   "attachments": {},
   "cell_type": "markdown",
   "metadata": {},
   "source": [
    "<a id=\"7.3\"></a>\n",
    "**7.3. Hyperparameter Optimization**"
   ]
  },
  {
   "cell_type": "code",
   "execution_count": 35,
   "metadata": {},
   "outputs": [],
   "source": [
    "kf = StratifiedKFold(n_splits=5, shuffle=True, random_state=42)"
   ]
  },
  {
   "cell_type": "code",
   "execution_count": 36,
   "metadata": {},
   "outputs": [],
   "source": [
    "scale_pos_weight = np.unique(y_train, return_counts=True)[1][0] / np.unique(y_train, return_counts=True)[1][1]"
   ]
  },
  {
   "cell_type": "code",
   "execution_count": 37,
   "metadata": {},
   "outputs": [
    {
     "name": "stdout",
     "output_type": "stream",
     "text": [
      "XGBClassifier(base_score=None, booster=None, callbacks=None,\n",
      "              colsample_bylevel=None, colsample_bynode=None,\n",
      "              colsample_bytree=0.9, early_stopping_rounds=None,\n",
      "              enable_categorical=False, eval_metric=None, feature_types=None,\n",
      "              gamma=0.1, gpu_id=None, grow_policy=None, importance_type=None,\n",
      "              interaction_constraints=None, learning_rate=0.015142857142857142,\n",
      "              max_bin=None, max_cat_threshold=None, max_cat_to_onehot=None,\n",
      "              max_delta_step=None, max_depth=7, max_leaves=None,\n",
      "              min_child_weight=6, missing=nan, monotone_constraints=None,\n",
      "              n_estimators=200, n_jobs=None, num_parallel_tree=None,\n",
      "              predictor=None, random_state=142, ...)\n",
      "{'subsample': 0.625, 'n_estimators': 200, 'min_child_weight': 6, 'max_depth': 7, 'learning_rate': 0.015142857142857142, 'gamma': 0.1, 'colsample_bytree': 0.9}\n"
     ]
    }
   ],
   "source": [
    "xgb_classifier = XGBClassifier(objective='binary:logistic', scale_pos_weight=scale_pos_weight, random_state=142)\n",
    "\n",
    "param_dist = {\n",
    "    'n_estimators': [int(x) for x in np.linspace(start = 200, stop = 3000, num = 20)],\n",
    "    'max_depth': [int(x) for x in np.linspace(1, 10, num = 10)],\n",
    "    'gamma': [i/10.0 for i in range(0,5)],\n",
    "    'subsample':[float(x) for x in np.linspace(0.5, 1, num = 5)],\n",
    "    'colsample_bytree' : [i/10.0 for i in range(5,11)],\n",
    "    'min_child_weight' : [i for i in range(1,11)],\n",
    "    'learning_rate': [float(x) for x in np.linspace(1e-3, 1e-1, num = 15)]\n",
    "}  \n",
    "\n",
    "rsearch = RandomizedSearchCV(\n",
    "    xgb_classifier,\n",
    "    param_distributions = param_dist,\n",
    "    scoring='roc_auc',\n",
    "    cv=kf, \n",
    "    verbose=False\n",
    ")\n",
    "\n",
    "rsearch.fit(OH_X_train, y_train)\n",
    "\n",
    "print(rsearch.best_estimator_)\n",
    "print(rsearch.best_params_)"
   ]
  },
  {
   "attachments": {},
   "cell_type": "markdown",
   "metadata": {},
   "source": [
    "<a id=\"7.4\"></a>\n",
    "**7.4. Desempenho do Modelo - Cross Validation**"
   ]
  },
  {
   "cell_type": "code",
   "execution_count": 38,
   "metadata": {},
   "outputs": [
    {
     "name": "stdout",
     "output_type": "stream",
     "text": [
      "ROC_AUC scores: [0.77651233 0.78705488 0.79893313 0.77453385 0.76657087]\n",
      "média: 0.7807210123385786\n"
     ]
    }
   ],
   "source": [
    "xgb_classifier = XGBClassifier(\n",
    "    objective='binary:logistic',\n",
    "    n_estimators=1231,\n",
    "    learning_rate=0.001,\n",
    "    colsample_bytree=0.8,\n",
    "    scale_pos_weight=scale_pos_weight,\n",
    "    max_depth=8,\n",
    "    min_child_weight=1,\n",
    "    subsample=1.0,\n",
    "    random_state=42,\n",
    "    n_jobs=-1,\n",
    "    gamma=0.02,\n",
    ")\n",
    "\n",
    "scores = cross_val_score(\n",
    "    xgb_classifier, \n",
    "    OH_X_train, \n",
    "    y_train,\n",
    "    cv=kf,\n",
    "    scoring='roc_auc'\n",
    ")\n",
    "\n",
    "print(f\"ROC_AUC scores: {scores}\\nmédia: {scores.sum() / len(scores)}\")"
   ]
  },
  {
   "attachments": {},
   "cell_type": "markdown",
   "metadata": {},
   "source": [
    "<a id=\"8\"></a>\n",
    "### **8. Predictions**"
   ]
  },
  {
   "attachments": {},
   "cell_type": "markdown",
   "metadata": {},
   "source": [
    "<a id=\"8.1\"></a>\n",
    "**8.1. Decision Threshold**"
   ]
  },
  {
   "cell_type": "code",
   "execution_count": 39,
   "metadata": {},
   "outputs": [
    {
     "data": {
      "text/html": [
       "<div>\n",
       "<style scoped>\n",
       "    .dataframe tbody tr th:only-of-type {\n",
       "        vertical-align: middle;\n",
       "    }\n",
       "\n",
       "    .dataframe tbody tr th {\n",
       "        vertical-align: top;\n",
       "    }\n",
       "\n",
       "    .dataframe thead th {\n",
       "        text-align: right;\n",
       "    }\n",
       "</style>\n",
       "<table border=\"1\" class=\"dataframe\">\n",
       "  <thead>\n",
       "    <tr style=\"text-align: right;\">\n",
       "      <th></th>\n",
       "      <th>thresholds</th>\n",
       "      <th>f1_score</th>\n",
       "    </tr>\n",
       "  </thead>\n",
       "  <tbody>\n",
       "    <tr>\n",
       "      <th>1384</th>\n",
       "      <td>0.446371</td>\n",
       "      <td>0.736176</td>\n",
       "    </tr>\n",
       "    <tr>\n",
       "      <th>1385</th>\n",
       "      <td>0.445796</td>\n",
       "      <td>0.736130</td>\n",
       "    </tr>\n",
       "    <tr>\n",
       "      <th>1386</th>\n",
       "      <td>0.445595</td>\n",
       "      <td>0.736083</td>\n",
       "    </tr>\n",
       "    <tr>\n",
       "      <th>1382</th>\n",
       "      <td>0.446609</td>\n",
       "      <td>0.736057</td>\n",
       "    </tr>\n",
       "    <tr>\n",
       "      <th>1388</th>\n",
       "      <td>0.445097</td>\n",
       "      <td>0.736035</td>\n",
       "    </tr>\n",
       "  </tbody>\n",
       "</table>\n",
       "</div>"
      ],
      "text/plain": [
       "      thresholds  f1_score\n",
       "1384    0.446371  0.736176\n",
       "1385    0.445796  0.736130\n",
       "1386    0.445595  0.736083\n",
       "1382    0.446609  0.736057\n",
       "1388    0.445097  0.736035"
      ]
     },
     "execution_count": 39,
     "metadata": {},
     "output_type": "execute_result"
    }
   ],
   "source": [
    "Xtrain, Xvalid, ytrain, yvalid = train_test_split(OH_X_train, y_train, test_size=0.3, stratify=y_train, random_state=0)\n",
    "\n",
    "xgb_classifier.fit(Xtrain, ytrain)\n",
    "ypred = xgb_classifier.predict_proba(Xvalid)[:,1]\n",
    "\n",
    "fpr, tpr, thresholds = roc_curve(yvalid, ypred)\n",
    "f1_score_ls = []\n",
    "for thres in thresholds:\n",
    "    y_pred = np.where(ypred>thres,1,0)\n",
    "    f1_score_ls.append(f1_score(yvalid, y_pred, average=\"weighted\"))\n",
    "    \n",
    "f1_score_ls = pd.concat([pd.Series(thresholds), pd.Series(f1_score_ls)],\n",
    "                        axis=1)\n",
    "f1_score_ls.columns = ['thresholds', 'f1_score']\n",
    "f1_score_ls.sort_values(by='f1_score', ascending=False, inplace=True)\n",
    "f1_score_ls.head()"
   ]
  },
  {
   "attachments": {},
   "cell_type": "markdown",
   "metadata": {},
   "source": [
    "<a id=\"8.2\"></a>\n",
    "**8.2. Predictions**"
   ]
  },
  {
   "attachments": {},
   "cell_type": "markdown",
   "metadata": {},
   "source": [
    "Five models with different seeds are trained to perform an ensemble of predictions by averaging the scores."
   ]
  },
  {
   "cell_type": "code",
   "execution_count": 40,
   "metadata": {},
   "outputs": [],
   "source": [
    "p = np.zeros((OH_X_test.shape[0], 5))\n",
    "for seed in range(5):\n",
    "    xgb_classifier = XGBClassifier(\n",
    "        objective='binary:logistic',\n",
    "        n_estimators=820,\n",
    "        learning_rate=0.01,\n",
    "        colsample_bytree=0.6,\n",
    "        scale_pos_weight=scale_pos_weight,\n",
    "        max_depth=4,\n",
    "        min_child_weight=6,\n",
    "        subsample=0.625,\n",
    "        random_state=seed,\n",
    "        n_jobs=-1,\n",
    "        gamma=0.01,\n",
    "    )\n",
    "    xgb_classifier.fit(OH_X_train, y_train)\n",
    "    p[:, seed] = xgb_classifier.predict_proba(OH_X_test)[:, 1]"
   ]
  },
  {
   "attachments": {},
   "cell_type": "markdown",
   "metadata": {},
   "source": [
    "<a id=\"9\"></a>\n",
    "### **9. Submission**"
   ]
  },
  {
   "cell_type": "code",
   "execution_count": 41,
   "metadata": {},
   "outputs": [],
   "source": [
    "threshold = 0.446371\n",
    "test_ids['status_do_caso'] = p.mean(axis=1)\n",
    "test_ids['status_do_caso'] = test_ids['status_do_caso'].map(lambda x: 1 if x > threshold else 0)\n",
    "test_ids.to_csv('sub.csv', index=False)"
   ]
  }
 ],
 "metadata": {
  "kernelspec": {
   "display_name": "env",
   "language": "python",
   "name": "python3"
  },
  "language_info": {
   "codemirror_mode": {
    "name": "ipython",
    "version": 3
   },
   "file_extension": ".py",
   "mimetype": "text/x-python",
   "name": "python",
   "nbconvert_exporter": "python",
   "pygments_lexer": "ipython3",
   "version": "3.10.6"
  },
  "orig_nbformat": 4
 },
 "nbformat": 4,
 "nbformat_minor": 2
}
